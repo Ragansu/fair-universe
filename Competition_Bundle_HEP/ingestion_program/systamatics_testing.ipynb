{
 "cells": [
  {
   "cell_type": "markdown",
   "metadata": {},
   "source": [
    "TESTING SYSTEMATICS"
   ]
  },
  {
   "cell_type": "code",
   "execution_count": 4,
   "metadata": {},
   "outputs": [],
   "source": [
    "import systematics\n",
    "import numpy as np\n",
    "import matplotlib.pyplot as plt\n",
    "\n",
    "import sys\n",
    "from ingestion import Ingestion\n"
   ]
  },
  {
   "cell_type": "code",
   "execution_count": 7,
   "metadata": {},
   "outputs": [
    {
     "name": "stdout",
     "output_type": "stream",
     "text": [
      "[*] Loading Train data\n"
     ]
    },
    {
     "ename": "FileNotFoundError",
     "evalue": "[Errno 2] No such file or directory: '../input_data\\\\train\\\\weights\\\\data.weights'",
     "output_type": "error",
     "traceback": [
      "\u001b[1;31m---------------------------------------------------------------------------\u001b[0m",
      "\u001b[1;31mFileNotFoundError\u001b[0m                         Traceback (most recent call last)",
      "\u001b[1;32mx:\\Fair Universe 2023\\fair-universe\\Competition_Bundle_HEP\\ingestion_program\\systamatics_testing.ipynb Cell 3\u001b[0m line \u001b[0;36m8\n\u001b[0;32m      <a href='vscode-notebook-cell:/x%3A/Fair%20Universe%202023/fair-universe/Competition_Bundle_HEP/ingestion_program/systamatics_testing.ipynb#W1sZmlsZQ%3D%3D?line=4'>5</a>\u001b[0m ingestion\u001b[39m.\u001b[39mstart_timer()\n\u001b[0;32m      <a href='vscode-notebook-cell:/x%3A/Fair%20Universe%202023/fair-universe/Competition_Bundle_HEP/ingestion_program/systamatics_testing.ipynb#W1sZmlsZQ%3D%3D?line=6'>7</a>\u001b[0m \u001b[39m# load test set\u001b[39;00m\n\u001b[1;32m----> <a href='vscode-notebook-cell:/x%3A/Fair%20Universe%202023/fair-universe/Competition_Bundle_HEP/ingestion_program/systamatics_testing.ipynb#W1sZmlsZQ%3D%3D?line=7'>8</a>\u001b[0m ingestion\u001b[39m.\u001b[39;49mload_train_set()\n\u001b[0;32m     <a href='vscode-notebook-cell:/x%3A/Fair%20Universe%202023/fair-universe/Competition_Bundle_HEP/ingestion_program/systamatics_testing.ipynb#W1sZmlsZQ%3D%3D?line=9'>10</a>\u001b[0m \u001b[39m# load test set\u001b[39;00m\n\u001b[0;32m     <a href='vscode-notebook-cell:/x%3A/Fair%20Universe%202023/fair-universe/Competition_Bundle_HEP/ingestion_program/systamatics_testing.ipynb#W1sZmlsZQ%3D%3D?line=10'>11</a>\u001b[0m ingestion\u001b[39m.\u001b[39mload_test_sets()\n",
      "File \u001b[1;32mx:\\Fair Universe 2023\\fair-universe\\Competition_Bundle_HEP\\ingestion_program\\ingestion.py:113\u001b[0m, in \u001b[0;36mIngestion.load_train_set\u001b[1;34m(self)\u001b[0m\n\u001b[0;32m    110\u001b[0m     train_settings \u001b[39m=\u001b[39m json\u001b[39m.\u001b[39mload(f)\n\u001b[0;32m    112\u001b[0m \u001b[39m# read train weights\u001b[39;00m\n\u001b[1;32m--> 113\u001b[0m \u001b[39mwith\u001b[39;00m \u001b[39mopen\u001b[39;49m(train_weights_file) \u001b[39mas\u001b[39;00m f:\n\u001b[0;32m    114\u001b[0m     train_weights \u001b[39m=\u001b[39m np\u001b[39m.\u001b[39marray(f\u001b[39m.\u001b[39mread()\u001b[39m.\u001b[39msplitlines(), dtype\u001b[39m=\u001b[39m\u001b[39mfloat\u001b[39m)\n\u001b[0;32m    117\u001b[0m \u001b[39mself\u001b[39m\u001b[39m.\u001b[39mtrain_set \u001b[39m=\u001b[39m {\n\u001b[0;32m    118\u001b[0m     \u001b[39m\"\u001b[39m\u001b[39mdata\u001b[39m\u001b[39m\"\u001b[39m: train_data,\n\u001b[0;32m    119\u001b[0m     \u001b[39m\"\u001b[39m\u001b[39mlabels\u001b[39m\u001b[39m\"\u001b[39m: train_labels,\n\u001b[0;32m    120\u001b[0m     \u001b[39m\"\u001b[39m\u001b[39msettings\u001b[39m\u001b[39m\"\u001b[39m: train_settings,\n\u001b[0;32m    121\u001b[0m     \u001b[39m\"\u001b[39m\u001b[39mweights\u001b[39m\u001b[39m\"\u001b[39m: train_weights\n\u001b[0;32m    122\u001b[0m }\n",
      "\u001b[1;31mFileNotFoundError\u001b[0m: [Errno 2] No such file or directory: '../input_data\\\\train\\\\weights\\\\data.weights'"
     ]
    }
   ],
   "source": [
    "# Init Ingestion\n",
    "ingestion = Ingestion()\n",
    "\n",
    "# Start timer\n",
    "ingestion.start_timer()\n",
    "\n",
    "# load test set\n",
    "ingestion.load_train_set()\n",
    "\n",
    "# load test set\n",
    "ingestion.load_test_sets()"
   ]
  },
  {
   "cell_type": "code",
   "execution_count": null,
   "metadata": {},
   "outputs": [],
   "source": []
  }
 ],
 "metadata": {
  "kernelspec": {
   "display_name": "Python 3",
   "language": "python",
   "name": "python3"
  },
  "language_info": {
   "codemirror_mode": {
    "name": "ipython",
    "version": 3
   },
   "file_extension": ".py",
   "mimetype": "text/x-python",
   "name": "python",
   "nbconvert_exporter": "python",
   "pygments_lexer": "ipython3",
   "version": "3.10.11"
  }
 },
 "nbformat": 4,
 "nbformat_minor": 2
}
