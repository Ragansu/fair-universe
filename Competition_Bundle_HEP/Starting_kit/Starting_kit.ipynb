{
 "cells": [
  {
   "cell_type": "code",
   "execution_count": 1,
   "metadata": {},
   "outputs": [],
   "source": [
    "COLAB=False #if running on https://colab.research.google.com/notebooks/welcome.ipynb"
   ]
  },
  {
   "cell_type": "markdown",
   "metadata": {},
   "source": [
    "# Imports"
   ]
  },
  {
   "cell_type": "code",
   "execution_count": 2,
   "metadata": {},
   "outputs": [],
   "source": [
    "import os\n",
    "import numpy as np\n",
    "import pandas as pd\n",
    "from sys import path\n",
    "from copy import copy, deepcopy\n",
    "import warnings\n",
    "import lightgbm as lgb\n",
    "\n",
    "warnings.filterwarnings(\"ignore\")"
   ]
  },
  {
   "cell_type": "code",
   "execution_count": 3,
   "metadata": {},
   "outputs": [],
   "source": [
    "if COLAB == True :\n",
    "    from google.colab import drive\n",
    "    drive.mount('/content/drive')\n",
    "    "
   ]
  },
  {
   "cell_type": "markdown",
   "metadata": {},
   "source": [
    "## Directories"
   ]
  },
  {
   "cell_type": "code",
   "execution_count": 4,
   "metadata": {},
   "outputs": [],
   "source": [
    "model_dir = '../sample_code_submission/'\n",
    "result_dir = '../sample_result_submission/' \n",
    "problem_dir = '../ingestion_program/'  \n",
    "score_dir = '../scoring_program/'\n",
    "visualizer_dir = '../visualize/'"
   ]
  },
  {
   "cell_type": "markdown",
   "metadata": {},
   "source": [
    "### Add directories to path"
   ]
  },
  {
   "cell_type": "code",
   "execution_count": 5,
   "metadata": {},
   "outputs": [],
   "source": [
    "path.append(model_dir) \n",
    "path.append(problem_dir)\n",
    "path.append(score_dir)\n",
    "path.append(\"../\")\n",
    "path.append(visualizer_dir)\n"
   ]
  },
  {
   "cell_type": "markdown",
   "metadata": {},
   "source": [
    "**Imports**"
   ]
  },
  {
   "cell_type": "code",
   "execution_count": 8,
   "metadata": {},
   "outputs": [],
   "source": [
    "# from data_loader import get_settings_from_json\n",
    "!cd ..\n",
    "\n",
    "from datagen_temp import DataGenerator\n",
    "from ingestion import Ingestion\n",
    "from visualise import *"
   ]
  },
  {
   "cell_type": "code",
   "execution_count": 11,
   "metadata": {},
   "outputs": [
    {
     "name": "stdout",
     "output_type": "stream",
     "text": [
      "Traceback (most recent call last):\r\n",
      "  File \"/homeijclab/chakkappai/Fair_Universe/fair-universe/Competition_Bundle_HEP/Starting_kit/../datagen_temp.py\", line 9, in <module>\r\n",
      "    from systematics import Systematics\r\n",
      "ModuleNotFoundError: No module named 'systematics'\r\n"
     ]
    }
   ],
   "source": [
    "# Init Ingestion\n",
    "\n",
    "!python3 ../datagen_temp.py\n",
    "\n",
    "ingestion = Ingestion()\n",
    "\n",
    "# Start timer\n",
    "ingestion.start_timer()\n"
   ]
  },
  {
   "cell_type": "code",
   "execution_count": null,
   "metadata": {},
   "outputs": [],
   "source": [
    "# load test set\n",
    "ingestion.load_train_set()\n",
    "\n",
    "# load test set\n",
    "ingestion.load_test_sets()\n"
   ]
  },
  {
   "cell_type": "markdown",
   "metadata": {},
   "source": [
    "## Visualise Data "
   ]
  },
  {
   "cell_type": "code",
   "execution_count": null,
   "metadata": {},
   "outputs": [],
   "source": [
    "Train_data_vis = Dataset_visualise(ingestion.train_set[\"data\"],ingestion.train_set[\"weights\"],ingestion.train_set[\"labels\"],\"Train Set\")"
   ]
  },
  {
   "cell_type": "code",
   "execution_count": null,
   "metadata": {},
   "outputs": [],
   "source": [
    "Train_data_vis.examine_dataset()"
   ]
  },
  {
   "cell_type": "code",
   "execution_count": null,
   "metadata": {},
   "outputs": [],
   "source": [
    "Train_data_vis.histogram_dataset()"
   ]
  },
  {
   "cell_type": "code",
   "execution_count": null,
   "metadata": {},
   "outputs": [],
   "source": [
    "Train_data_vis.correlation_plots()"
   ]
  },
  {
   "cell_type": "code",
   "execution_count": null,
   "metadata": {},
   "outputs": [],
   "source": [
    "Train_data_vis.pair_plots(columns = ['PRI_lep_pt', 'PRI_lep_eta','PRI_lep_phi', 'DER_deltar_had_lep'])\n",
    " "
   ]
  },
  {
   "cell_type": "code",
   "execution_count": null,
   "metadata": {},
   "outputs": [],
   "source": [
    "# Train_data_vis.cluster_plot(columns = ['PRI_lep_pt', 'PRI_lep_eta','PRI_lep_phi', 'DER_deltar_had_lep'])"
   ]
  },
  {
   "cell_type": "code",
   "execution_count": null,
   "metadata": {},
   "outputs": [],
   "source": [
    "# n = 1\n",
    "# for i in range(n):\n",
    "#     Test_data_vis = Dataset_visualise(ingestion.test_sets[i],ingestion.test_sets_weights[i],ingestion.test_labels[i],f\"Test Set {i} \")\n",
    "#     Test_data_vis.examine_dataset()\n",
    "#     Test_data_vis.histogram_dataset()\n",
    "#     Test_data_vis.correlation_plots()\n",
    "#     Test_data_vis.pair_plots()\n",
    " "
   ]
  },
  {
   "cell_type": "markdown",
   "metadata": {},
   "source": [
    "## Training Model"
   ]
  },
  {
   "cell_type": "code",
   "execution_count": null,
   "metadata": {},
   "outputs": [],
   "source": [
    "# Initialize submission\n",
    "ingestion.initialize_submission()\n",
    "\n",
    "# Call fit method of submission\n",
    "ingestion.fit_submission()\n",
    "\n",
    "\n",
    "model = ingestion.model"
   ]
  },
  {
   "cell_type": "code",
   "execution_count": null,
   "metadata": {},
   "outputs": [],
   "source": [
    "results = model.model.evals_result()\n",
    "\n",
    "validationcurve(results,'auc')"
   ]
  },
  {
   "cell_type": "code",
   "execution_count": null,
   "metadata": {},
   "outputs": [],
   "source": [
    "validationcurve(results,'logloss')"
   ]
  },
  {
   "cell_type": "code",
   "execution_count": null,
   "metadata": {},
   "outputs": [],
   "source": [
    "# lgb.plot_metric(results)"
   ]
  },
  {
   "cell_type": "code",
   "execution_count": null,
   "metadata": {},
   "outputs": [],
   "source": [
    "# Call predict method of submission\n",
    "ingestion.predict_submission()\n",
    "\n",
    "model = ingestion.model"
   ]
  },
  {
   "cell_type": "markdown",
   "metadata": {},
   "source": [
    "## Visualise Model"
   ]
  },
  {
   "cell_type": "code",
   "execution_count": null,
   "metadata": {},
   "outputs": [],
   "source": [
    "roc_curve_(model.train_set['score'],model.train_set['labels'] ,model.train_set['weights'],plot_label = model.model_name,color='b',lw = 2)\n",
    "\n",
    "events_histogram(model.train_set['score'],model.train_set['labels'] ,model.train_set['weights'],plot_label = model.model_name + \" Train Set\")\n",
    "\n",
    "score_histogram(model.train_set['score'],model.train_set['labels'] ,plot_label = model.model_name + \" Train Set\")\n"
   ]
  },
  {
   "cell_type": "code",
   "execution_count": null,
   "metadata": {},
   "outputs": [],
   "source": [
    "i = 0\n",
    "for test_set in model.test_sets:\n",
    "    roc_curve_(test_set['score'],test_set['labels'] ,test_set['weights'],plot_label = model.model_name + f\" test Set {i}\",color='b',lw = 2)\n",
    "\n",
    "    events_histogram(test_set['score'],test_set['labels'] ,test_set['weights'],plot_label = model.model_name + f\" Test Set {i}\")\n",
    "\n",
    "    score_histogram(test_set['score'],test_set['labels'] ,plot_label = model.model_name + f\" Test Set {i}\")\n",
    "    i = i + 1"
   ]
  },
  {
   "cell_type": "code",
   "execution_count": null,
   "metadata": {},
   "outputs": [],
   "source": [
    "i = 0\n",
    "for valid_set in model.validation_sets:\n",
    "    roc_curve_(valid_set['score'],valid_set['labels'] ,valid_set['weights'],plot_label = model.model_name + f\" test Set {i}\",color='b',lw = 2)\n",
    "\n",
    "    events_histogram(valid_set['score'],valid_set['labels'] ,valid_set['weights'],plot_label = model.model_name + f\" Test Set {i}\")\n",
    "\n",
    "    score_histogram(valid_set['score'],valid_set['labels'] ,plot_label = model.model_name + f\" Test Set {i}\")\n",
    "    i = i + 1"
   ]
  },
  {
   "cell_type": "code",
   "execution_count": null,
   "metadata": {},
   "outputs": [],
   "source": [
    "# Save result\n",
    "ingestion.save_result()\n",
    "\n",
    "# Stop timer\n",
    "ingestion.stop_timer()\n",
    "\n",
    "# Show duration\n",
    "ingestion.show_duration()"
   ]
  },
  {
   "cell_type": "markdown",
   "metadata": {},
   "source": [
    "## End"
   ]
  }
 ],
 "metadata": {
  "kernelspec": {
   "display_name": "Python 3 (ipykernel)",
   "language": "python",
   "name": "python3"
  },
  "language_info": {
   "codemirror_mode": {
    "name": "ipython",
    "version": 3
   },
   "file_extension": ".py",
   "mimetype": "text/x-python",
   "name": "python",
   "nbconvert_exporter": "python",
   "pygments_lexer": "ipython3",
   "version": "3.9.12"
  },
  "vscode": {
   "interpreter": {
    "hash": "c9e001b0608738f9411416229c98988c04b997dc526fb61c5e4e084e768e3249"
   }
  }
 },
 "nbformat": 4,
 "nbformat_minor": 4
}
