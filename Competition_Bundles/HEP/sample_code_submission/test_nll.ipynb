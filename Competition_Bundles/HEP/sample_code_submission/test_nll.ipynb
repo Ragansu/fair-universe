{
 "cells": [
  {
   "cell_type": "code",
   "execution_count": 1,
   "metadata": {},
   "outputs": [],
   "source": [
    "import numpy as np\n",
    "import pandas as pd\n",
    "import json\n",
    "import os\n",
    "from sklearn.model_selection import train_test_split\n",
    "import matplotlib.pyplot as plt\n",
    "\n",
    "input_dir = os.path.join(\"D:\", 'input_data')\n",
    "train_data_file = os.path.join(input_dir, 'train', 'data', 'data.csv')\n",
    "train_labels_file = os.path.join(input_dir, 'train', 'labels', \"data.labels\")\n",
    "train_settings_file = os.path.join(input_dir, 'train', 'settings', \"data.json\")\n",
    "train_weights_file = os.path.join(input_dir, 'train', 'weights', \"data.weights\")\n",
    "\n",
    "# read train data\n",
    "data = pd.read_csv(train_data_file)\n",
    "\n",
    "# read train labels\n",
    "with open(train_labels_file, \"r\") as f:\n",
    "    labels = np.array(f.read().splitlines(), dtype=float)\n",
    "\n",
    "# read train settings\n",
    "with open(train_settings_file) as f:\n",
    "    settings = json.load(f)\n",
    "\n",
    "# read train weights\n",
    "with open(train_weights_file) as f:\n",
    "    weights = np.array(f.read().splitlines(), dtype=float\n",
    "                       )\n",
    "    \n"
   ]
  },
  {
   "cell_type": "code",
   "execution_count": 14,
   "metadata": {},
   "outputs": [
    {
     "name": "stdout",
     "output_type": "stream",
     "text": [
      "data.shape:  (2010001, 32)\n",
      "labels.shape:  (2010001,)\n",
      "weights.shape:  (2010001,)\n",
      "train_data.shape:  (1608000, 32)\n",
      "train_labels.shape:  (1608000,)\n",
      "train_weights.shape:  (1608000,)\n",
      "gamma_roi:  5307.531774967856\n",
      "beta_roi:  1546821.155904455\n"
     ]
    }
   ],
   "source": [
    "print(\"data.shape: \", data.shape)\n",
    "print(\"labels.shape: \", labels.shape)\n",
    "print(\"weights.shape: \", weights.shape)\n",
    "\n",
    "\n",
    "# split train data into train and test\n",
    "train_data, test_data, train_labels, test_labels, train_weights, test_weights = train_test_split(data, labels, weights, test_size=0.2, random_state=42)\n",
    "\n",
    "train_weights *= weights.sum()/train_weights.sum()\n",
    "test_weights *= weights.sum()/test_weights.sum()\n",
    "\n",
    "print(\"train_data.shape: \", train_data.shape)\n",
    "print(\"train_labels.shape: \", train_labels.shape)\n",
    "print(\"train_weights.shape: \", train_weights.shape)\n",
    "\n",
    "gamma_roi = (train_weights*(train_labels)).sum()\n",
    "beta_roi = (train_weights*(1-train_labels)).sum()\n",
    "\n",
    "print(\"gamma_roi: \", gamma_roi)\n",
    "print(\"beta_roi: \", beta_roi)\n"
   ]
  },
  {
   "cell_type": "code",
   "execution_count": 31,
   "metadata": {},
   "outputs": [
    {
     "data": {
      "image/png": "[encoded data removed]",
      "text/plain": [
       "<Figure size 640x480 with 1 Axes>"
      ]
     },
     "metadata": {},
     "output_type": "display_data"
    },
    {
     "name": "stdout",
     "output_type": "stream",
     "text": [
      "min NLL:  0.0\n",
      "min NLL index:  16\n",
      "min NLL mu:  0.9795918367346939\n",
      "1 sigma:  1.2244897959183674 0.7959183673469388\n"
     ]
    }
   ],
   "source": [
    "\n",
    "\n",
    "def _sigma_asimov_SR(mu):\n",
    "    return mu*gamma_roi + beta_roi\n",
    "def _sigma_asimov_CR(mu):\n",
    "    return 0\n",
    "\n",
    "def calculate_NLL( mu_scan, weight_data,use_CR=False):\n",
    "    sum_data_total_SR = weight_data.sum()\n",
    "    sum_data_total_CR = 0\n",
    "    comb_llr = []\n",
    "    for i, mu in enumerate(mu_scan):\n",
    "        hist_llr = (\n",
    "            -2\n",
    "            * sum_data_total_SR\n",
    "            * np.log((_sigma_asimov_SR(mu) / _sigma_asimov_SR(1.0)))\n",
    "        ) + (2 * (_sigma_asimov_SR(mu) - _sigma_asimov_SR(1.0)))\n",
    "\n",
    "        if use_CR:\n",
    "            hist_llr_CR = (\n",
    "                -2\n",
    "                * sum_data_total_CR\n",
    "                * np.log((_sigma_asimov_CR(mu) / _sigma_asimov_CR(1.0)))\n",
    "                ) + (2 * (_sigma_asimov_CR(mu) - _sigma_asimov_CR(1.0)))\n",
    "        else:\n",
    "            hist_llr_CR=0\n",
    "            #print(\"do not use CR\")    \n",
    "        #DR time is spent here ?        \n",
    "\n",
    "\n",
    "        comb_llr.append(hist_llr + hist_llr_CR)\n",
    "\n",
    "    comb_llr = np.array(comb_llr)\n",
    "    comb_llr = comb_llr - np.amin(comb_llr)\n",
    "\n",
    "    return comb_llr\n",
    "\n",
    "mu_scan = np.linspace(0, 3, 50)\n",
    "hist_llr = calculate_NLL(mu_scan, test_weights)\n",
    "hist_llr = np.array(hist_llr)\n",
    "\n",
    "plt.plot( mu_scan,hist_llr)\n",
    "plt.hlines(1, 0, 3, colors=\"r\", linestyles=\"dashed\")\n",
    "plt.hlines(4, 0, 3, colors=\"b\", linestyles=\"dashed\")\n",
    "plt.xlabel(\"mu\")    \n",
    "plt.ylabel(\"NLL\")\n",
    "plt.grid(True)\n",
    "plt.show()\n",
    "\n",
    "print(\"min NLL: \", min(hist_llr))\n",
    "print(\"min NLL index: \", np.argmin(hist_llr))\n",
    "print(\"min NLL mu: \", mu_scan[np.argmin(hist_llr)])\n",
    "\n",
    "print(\"1 sigma: \", max(mu_scan[np.where((hist_llr < 1.0) & (hist_llr > 0.0))]), min(mu_scan[np.where((hist_llr < 1.0) & (hist_llr > 0.0))]))"
   ]
  },
  {
   "cell_type": "code",
   "execution_count": null,
   "metadata": {},
   "outputs": [],
   "source": []
  }
 ],
 "metadata": {
  "kernelspec": {
   "display_name": "Python 3",
   "language": "python",
   "name": "python3"
  },
  "language_info": {
   "codemirror_mode": {
    "name": "ipython",
    "version": 3
   },
   "file_extension": ".py",
   "mimetype": "text/x-python",
   "name": "python",
   "nbconvert_exporter": "python",
   "pygments_lexer": "ipython3",
   "version": "3.9.13"
  }
 },
 "nbformat": 4,
 "nbformat_minor": 2
}
