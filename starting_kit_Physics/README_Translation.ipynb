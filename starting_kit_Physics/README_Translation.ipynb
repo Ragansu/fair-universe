{
 "cells": [
  {
   "attachments": {},
   "cell_type": "markdown",
   "metadata": {},
   "source": [
    "## Fair-Universe | Starting kit (Physics)\n",
    "***"
   ]
  },
  {
   "attachments": {},
   "cell_type": "markdown",
   "metadata": {},
   "source": [
    "#### Problem Setting:\n",
    "\n",
    "arrival rate expectation of background events: $\\beta$  \n",
    "arrival rate expectation of signal events: $\\mu \\gamma$  \n",
    "combined arrival rate expectation: $\\nu = \\beta + \\mu \\gamma$\n",
    "\n",
    "$\\mu$: parameter to be estimated ($0.9<\\mu\\leq1.1$)  \n",
    "\n",
    "$\\gamma$ and $\\beta$ are fixed  \n",
    "$\\pi$ prior probability of signal for $\\mu$ = 1  \n",
    "$\\nu_1$ expected number of test examples for $\\mu$ = 1  \n",
    "$z$: nuisance parameter  \n"
   ]
  },
  {
   "attachments": {},
   "cell_type": "markdown",
   "metadata": {},
   "source": [
    "#### Steps:\n",
    "1. Draw $\\mu$ uniformly between 0.9 and 1.1\n",
    "2. Set systematiacs\n",
    "    - Translation: \n",
    "        - Draw $z$ uniformly between -2 and 2 and choose z_angle randomly from 0, 45, 90\n",
    "        - Draw $\\alpha$ randomly chosen from 0, 45, 90 degrees (angle of translation)\n",
    "4. Initialize $\\nu_1$ = 10000\n",
    "5. Initilaize $\\pi$ = 0.01\n",
    "6. Compute $\\nu$ = $\\nu_1 (\\mu \\pi + (1-\\pi))$\n",
    "7. Compute $\\gamma$ = $\\nu_1 \\pi$\n",
    "8. Compute $\\beta$ = $\\nu_1 (1-\\pi)$\n",
    "9. Compute $p_s$ = $\\pi \\mu /(\\mu \\pi + (1-\\pi))$\n",
    "10. Compute $p_b$  = $(1 - \\pi)/(\\mu \\pi + (1-\\pi))$\n",
    "11. Draw $N \\sim Poisson(\\nu)$\n",
    "\n",
    "***"
   ]
  },
  {
   "attachments": {},
   "cell_type": "markdown",
   "metadata": {},
   "source": [
    "<img src=\"data-gen.png\">"
   ]
  },
  {
   "attachments": {},
   "cell_type": "markdown",
   "metadata": {},
   "source": [
    "# Imports"
   ]
  },
  {
   "cell_type": "code",
   "execution_count": 1,
   "metadata": {},
   "outputs": [],
   "source": [
    "import os\n",
    "import numpy as np\n",
    "import pandas as pd\n",
    "import matplotlib.pyplot as plt\n",
    "from sys import path\n",
    "import warnings\n",
    "warnings.filterwarnings(\"ignore\")"
   ]
  },
  {
   "attachments": {},
   "cell_type": "markdown",
   "metadata": {},
   "source": [
    "## Directories"
   ]
  },
  {
   "cell_type": "code",
   "execution_count": 2,
   "metadata": {},
   "outputs": [],
   "source": [
    "model_dir = 'sample_code_submission/'\n",
    "result_dir = 'sample_result_submission/' \n",
    "problem_dir = 'ingestion_program/'  \n",
    "score_dir = 'scoring_program/'\n",
    "data_generator_dir = \"../Data_Generator\"\n",
    "visualize_dir = \"visualize/\"\n",
    "params_dir = \"params/\"\n",
    "augmentation_dir = \"augmentation/\"\n",
    "training_dir = \"training/\"\n",
    "optimization_dir = \"optimization/\"\n",
    "\n",
    "\n",
    "path.append(model_dir) \n",
    "path.append(problem_dir)\n",
    "path.append(score_dir)\n",
    "path.append(data_generator_dir)\n",
    "path.append(visualize_dir)\n",
    "path.append(params_dir)\n",
    "path.append(augmentation_dir)\n",
    "path.append(training_dir)\n",
    "path.append(optimization_dir)"
   ]
  },
  {
   "cell_type": "code",
   "execution_count": 3,
   "metadata": {},
   "outputs": [],
   "source": [
    "from params import Params \n",
    "from setting import Setting \n",
    "from data_generator_physics import DataGenerator\n",
    "from data_io import load_data, show_data_statistics, write\n",
    "from visualize import (\n",
    "    visualize_decicion_boundary,\n",
    "    visualize_augmented_data,\n",
    "    visualize_data,\n",
    "    visualize_clocks,\n",
    "    visualize_score,\n",
    "    visualize_roc_curves\n",
    ")\n",
    "from model import Model\n",
    "from trainer import Trainer\n",
    "from optimizer import Optimizer\n",
    "from metric import mse_metric, auc_metric, bac_metric"
   ]
  },
  {
   "cell_type": "code",
   "execution_count": 4,
   "metadata": {},
   "outputs": [],
   "source": [
    "data_name = 'fair_universe_challenge'\n",
    "data_dir = 'sample_data' "
   ]
  },
  {
   "attachments": {},
   "cell_type": "markdown",
   "metadata": {},
   "source": [
    "***\n",
    "# 1 - Generate Params\n",
    "***"
   ]
  },
  {
   "attachments": {},
   "cell_type": "markdown",
   "metadata": {},
   "source": [
    "### Define Systematics"
   ]
  },
  {
   "cell_type": "code",
   "execution_count": 5,
   "metadata": {},
   "outputs": [],
   "source": [
    "systematics = [\n",
    "    {\n",
    "        \"name\": \"Translation\",\n",
    "        \"z_range\": [-2, 2],\n",
    "        \"z_angles\": [0, 45, 90]\n",
    "    }\n",
    "]"
   ]
  },
  {
   "attachments": {},
   "cell_type": "markdown",
   "metadata": {},
   "source": [
    "### Generate Data Gen Setting"
   ]
  },
  {
   "cell_type": "code",
   "execution_count": 6,
   "metadata": {},
   "outputs": [],
   "source": [
    "data_gen_settings = []\n",
    "\n",
    "for i in range(0,6):\n",
    "\n",
    "    # Generate params \n",
    "    data_gen_params = Params(pi=0.1,\n",
    "                             nu_1=10000,\n",
    "                             mu_range=[0.9, 1.1], \n",
    "                             systematics=[],\n",
    "                             verbose=False)\n",
    "\n",
    "    # Generate setting from params for data generation\n",
    "    data_gen_settings.append(Setting(case=i+1, params=data_gen_params).get_setting())\n"
   ]
  },
  {
   "attachments": {},
   "cell_type": "markdown",
   "metadata": {},
   "source": [
    "***\n",
    "# 2 - Generate Data\n",
    "***"
   ]
  },
  {
   "cell_type": "code",
   "execution_count": 7,
   "metadata": {},
   "outputs": [],
   "source": [
    "for index, settings in enumerate(data_gen_settings):\n",
    "    data_gen = DataGenerator(settings_dict=settings)\n",
    "    data_gen.generate_data()\n",
    "    data_gen.save_data(directory=\"sample_data\", file_index=index+1)\n",
    "    "
   ]
  },
  {
   "cell_type": "code",
   "execution_count": 8,
   "metadata": {
    "scrolled": false
   },
   "outputs": [
    {
     "name": "stdout",
     "output_type": "stream",
     "text": [
      "\n",
      "\n",
      "###-------------------------------------###\n",
      "### Data Loading\n",
      "###-------------------------------------###\n",
      "\n",
      "[*] data dir :  sample_data\n",
      "[*] train data dir :  sample_data/train/data\n",
      "[*] train labels dir :  sample_data/train/labels\n",
      "[*] test data dir :  sample_data/test/data\n",
      "[*] test labels dir :  sample_data/test/labels\n",
      "[*] settings dir :  sample_data/settings\n",
      "[+] train data dir found\n",
      "[+] train labels dir found\n",
      "[+] test data dir found\n",
      "[+] test labels dir found\n",
      "[+] settings dir found\n",
      "[+] 6 train and test sets found\n",
      "---------------------------------\n",
      "[+] Train and Test data loaded!\n",
      "---------------------------------\n",
      "\n",
      "\n"
     ]
    }
   ],
   "source": [
    "train_sets, test_sets, settings = load_data(data_dir, load_settings=True)"
   ]
  },
  {
   "attachments": {},
   "cell_type": "markdown",
   "metadata": {},
   "source": [
    "### Data Statistics"
   ]
  },
  {
   "cell_type": "code",
   "execution_count": 9,
   "metadata": {},
   "outputs": [],
   "source": [
    "# show_data_statistics(train_sets, name=\"Train\")"
   ]
  },
  {
   "cell_type": "code",
   "execution_count": 10,
   "metadata": {},
   "outputs": [],
   "source": [
    "# show_data_statistics(test_sets, name=\"Test\")"
   ]
  },
  {
   "attachments": {},
   "cell_type": "markdown",
   "metadata": {},
   "source": [
    "**Data Visualization**"
   ]
  },
  {
   "cell_type": "code",
   "execution_count": 11,
   "metadata": {},
   "outputs": [],
   "source": [
    "# visualize_clocks(settings)"
   ]
  },
  {
   "cell_type": "code",
   "execution_count": 12,
   "metadata": {},
   "outputs": [],
   "source": [
    "# for index, _ in enumerate(train_sets):\n",
    "#     visualize_data(settings[index], train_sets[index], test_sets[index])"
   ]
  },
  {
   "attachments": {},
   "cell_type": "markdown",
   "metadata": {},
   "source": [
    "***\n",
    "# 3 - Optimize $\\theta$\n",
    "***"
   ]
  },
  {
   "attachments": {},
   "cell_type": "markdown",
   "metadata": {},
   "source": [
    "### Initialize caditate $\\theta$"
   ]
  },
  {
   "cell_type": "code",
   "execution_count": 13,
   "metadata": {},
   "outputs": [
    {
     "data": {
      "text/plain": [
       "array([-10,  -9,  -8,  -7,  -6,  -5,  -4,  -3,  -2,  -1,   0,   1,   2])"
      ]
     },
     "execution_count": 13,
     "metadata": {},
     "output_type": "execute_result"
    }
   ],
   "source": [
    "theta_candidates = np.arange(-10,3)\n",
    "theta_candidates"
   ]
  },
  {
   "attachments": {},
   "cell_type": "markdown",
   "metadata": {},
   "source": [
    "### Get Train sets (one for each theta) and search for best $\\theta$"
   ]
  },
  {
   "cell_type": "code",
   "execution_count": 14,
   "metadata": {},
   "outputs": [
    {
     "name": "stdout",
     "output_type": "stream",
     "text": [
      "\n",
      "--------------------------------------------\n",
      "[*] Model : NB --- Theta: -10\n",
      "--------------------------------------------\n",
      "\t[*] Loading Model\n",
      "\t[*] Training Model\n",
      "\t[*] Get Predictions\n",
      "\t[*] Estimate nu_ROI\n",
      "\t[*] Estimate gamma_ROI\n",
      "\t[*] Estimate beta_ROI\n",
      "\t[*] Compute Score: sigma_squred\n",
      "\n",
      "--------------------------------------------\n",
      "[*] Model : NB --- Theta: -9\n",
      "--------------------------------------------\n",
      "\t[*] Loading Model\n",
      "\t[*] Training Model\n",
      "\t[*] Get Predictions\n",
      "\t[*] Estimate nu_ROI\n",
      "\t[*] Estimate gamma_ROI\n",
      "\t[*] Estimate beta_ROI\n",
      "\t[*] Compute Score: sigma_squred\n",
      "\n",
      "--------------------------------------------\n",
      "[*] Model : NB --- Theta: -8\n",
      "--------------------------------------------\n",
      "\t[*] Loading Model\n",
      "\t[*] Training Model\n",
      "\t[*] Get Predictions\n",
      "\t[*] Estimate nu_ROI\n",
      "\t[*] Estimate gamma_ROI\n",
      "\t[*] Estimate beta_ROI\n",
      "\t[*] Compute Score: sigma_squred\n",
      "\n",
      "--------------------------------------------\n",
      "[*] Model : NB --- Theta: -7\n",
      "--------------------------------------------\n",
      "\t[*] Loading Model\n",
      "\t[*] Training Model\n",
      "\t[*] Get Predictions\n",
      "\t[*] Estimate nu_ROI\n",
      "\t[*] Estimate gamma_ROI\n",
      "\t[*] Estimate beta_ROI\n",
      "\t[*] Compute Score: sigma_squred\n",
      "\n",
      "--------------------------------------------\n",
      "[*] Model : NB --- Theta: -6\n",
      "--------------------------------------------\n",
      "\t[*] Loading Model\n",
      "\t[*] Training Model\n",
      "\t[*] Get Predictions\n",
      "\t[*] Estimate nu_ROI\n",
      "\t[*] Estimate gamma_ROI\n",
      "\t[*] Estimate beta_ROI\n",
      "\t[*] Compute Score: sigma_squred\n",
      "\n",
      "--------------------------------------------\n",
      "[*] Model : NB --- Theta: -5\n",
      "--------------------------------------------\n",
      "\t[*] Loading Model\n",
      "\t[*] Training Model\n",
      "\t[*] Get Predictions\n",
      "\t[*] Estimate nu_ROI\n",
      "\t[*] Estimate gamma_ROI\n",
      "\t[*] Estimate beta_ROI\n",
      "\t[*] Compute Score: sigma_squred\n",
      "\n",
      "--------------------------------------------\n",
      "[*] Model : NB --- Theta: -4\n",
      "--------------------------------------------\n",
      "\t[*] Loading Model\n",
      "\t[*] Training Model\n",
      "\t[*] Get Predictions\n",
      "\t[*] Estimate nu_ROI\n",
      "\t[*] Estimate gamma_ROI\n",
      "\t[*] Estimate beta_ROI\n",
      "\t[*] Compute Score: sigma_squred\n",
      "\n",
      "--------------------------------------------\n",
      "[*] Model : NB --- Theta: -3\n",
      "--------------------------------------------\n",
      "\t[*] Loading Model\n",
      "\t[*] Training Model\n",
      "\t[*] Get Predictions\n",
      "\t[*] Estimate nu_ROI\n",
      "\t[*] Estimate gamma_ROI\n",
      "\t[*] Estimate beta_ROI\n",
      "\t[*] Compute Score: sigma_squred\n",
      "\n",
      "--------------------------------------------\n",
      "[*] Model : NB --- Theta: -2\n",
      "--------------------------------------------\n",
      "\t[*] Loading Model\n",
      "\t[*] Training Model\n",
      "\t[*] Get Predictions\n",
      "\t[*] Estimate nu_ROI\n",
      "\t[*] Estimate gamma_ROI\n",
      "\t[*] Estimate beta_ROI\n",
      "\t[*] Compute Score: sigma_squred\n",
      "\n",
      "--------------------------------------------\n",
      "[*] Model : NB --- Theta: -1\n",
      "--------------------------------------------\n",
      "\t[*] Loading Model\n",
      "\t[*] Training Model\n",
      "\t[*] Get Predictions\n",
      "\t[*] Estimate nu_ROI\n",
      "\t[*] Estimate gamma_ROI\n",
      "\t[*] Estimate beta_ROI\n",
      "\t[*] Compute Score: sigma_squred\n",
      "\n",
      "--------------------------------------------\n",
      "[*] Model : NB --- Theta: 0\n",
      "--------------------------------------------\n",
      "\t[*] Loading Model\n",
      "\t[*] Training Model\n",
      "\t[*] Get Predictions\n",
      "\t[*] Estimate nu_ROI\n",
      "\t[*] Estimate gamma_ROI\n",
      "\t[*] Estimate beta_ROI\n",
      "\t[*] Compute Score: sigma_squred\n",
      "\n",
      "--------------------------------------------\n",
      "[*] Model : NB --- Theta: 1\n",
      "--------------------------------------------\n",
      "\t[*] Loading Model\n",
      "\t[*] Training Model\n",
      "\t[*] Get Predictions\n",
      "\t[*] Estimate nu_ROI\n",
      "\t[*] Estimate gamma_ROI\n",
      "\t[*] Estimate beta_ROI\n",
      "\t[*] Compute Score: sigma_squred\n",
      "\n",
      "--------------------------------------------\n",
      "[*] Model : NB --- Theta: 2\n",
      "--------------------------------------------\n",
      "\t[*] Loading Model\n",
      "\t[*] Training Model\n",
      "\t[*] Get Predictions\n",
      "\t[*] Estimate nu_ROI\n",
      "\t[*] Estimate gamma_ROI\n",
      "\t[*] Estimate beta_ROI\n",
      "\t[*] Compute Score: sigma_squred\n"
     ]
    }
   ],
   "source": [
    "model_setting = {\n",
    "    \"display_name\": \"NB\",\n",
    "    \"model_name\": \"NB\",\n",
    "    \"preprocessing\": False,\n",
    "    \"preprocessing_method\": \"translation\"\n",
    "}\n",
    "theta_results = []\n",
    "\n",
    "for i, theta_i in enumerate(theta_candidates):\n",
    "    # Generate params \n",
    "    data_gen_param = Params(pi=0.1,\n",
    "                             nu_1=10000,\n",
    "                             mu_range=[0.9, 1.1], \n",
    "                             systematics=[],\n",
    "                             verbose=False)\n",
    "\n",
    "    # Generate setting from params for data generation\n",
    "    data_gen_setting = Setting(case=i+1, params=data_gen_params).get_setting()\n",
    "\n",
    "    # Generate Data\n",
    "    data_gen = DataGenerator(settings_dict=data_gen_setting)\n",
    "    data_gen.generate_data()\n",
    "    setting, train, test = data_gen.get_data()\n",
    "\n",
    "\n",
    "    optimizer = Optimizer(\n",
    "        model_setting = model_setting,\n",
    "        theta = theta_i,\n",
    "        train_set = train\n",
    "    )\n",
    "    optimizer.optimize()\n",
    "\n",
    "    theta_results.append(optimizer.get_result())"
   ]
  },
  {
   "attachments": {},
   "cell_type": "markdown",
   "metadata": {},
   "source": [
    "### Get Best $\\theta$"
   ]
  },
  {
   "cell_type": "code",
   "execution_count": 15,
   "metadata": {},
   "outputs": [
    {
     "data": {
      "text/plain": [
       "{'theta': -1,\n",
       " 'score': 0.0012574676285826284,\n",
       " 'nu_roi': 1389,\n",
       " 'beta_roi': 338,\n",
       " 'gamma_roi': 1051}"
      ]
     },
     "execution_count": 15,
     "metadata": {},
     "output_type": "execute_result"
    }
   ],
   "source": [
    "all_sigma_scores = [res[\"score\"] for res in theta_results]\n",
    "best_theta_result = theta_results[np.argmin(all_sigma_scores)]\n",
    "best_theta_result"
   ]
  },
  {
   "attachments": {},
   "cell_type": "markdown",
   "metadata": {},
   "source": [
    "***\n",
    "# 4 - Baselines\n",
    "***"
   ]
  },
  {
   "attachments": {},
   "cell_type": "markdown",
   "metadata": {},
   "source": [
    "**Model Names and settings**"
   ]
  },
  {
   "cell_type": "code",
   "execution_count": 16,
   "metadata": {},
   "outputs": [],
   "source": [
    "model_settings = [\n",
    "    {\n",
    "        \"display_name\": \"NB\",\n",
    "        \"model_name\": \"NB\",\n",
    "        \"preprocessing\" : False,\n",
    "        \"preprocessing_method\" : \"translation\"\n",
    "    }\n",
    "]"
   ]
  },
  {
   "attachments": {},
   "cell_type": "markdown",
   "metadata": {},
   "source": [
    "**Train and Test**  \n",
    "\n",
    "- Load Data\n",
    "- Train Model\n",
    "- Get Predictions\n",
    "- Get Score\n",
    "- Get Metric Scores\n",
    "- Save Predictions\n",
    "- Save Scores\n"
   ]
  },
  {
   "cell_type": "code",
   "execution_count": 17,
   "metadata": {},
   "outputs": [
    {
     "name": "stdout",
     "output_type": "stream",
     "text": [
      "############################################\n",
      "### Training Program\n",
      "############################################\n",
      "\n",
      "--------------------------------------------\n",
      "[*] Model : NB --- Preprocessing: False\n",
      "--------------------------------------------\n",
      "\n",
      "\tDataset : 1\n",
      "\t----------------\n",
      "\t[*] Loading Model\n",
      "\t[*] Training Model\n",
      "\t[*] Get Predictions\n",
      "\t[*] Compute Score\n",
      "\t[*] Saving Predictions and Scores\n",
      "\n",
      "\tDataset : 2\n",
      "\t----------------\n",
      "\t[*] Loading Model\n",
      "\t[*] Training Model\n",
      "\t[*] Get Predictions\n",
      "\t[*] Compute Score\n",
      "\t[*] Saving Predictions and Scores\n",
      "\n",
      "\tDataset : 3\n",
      "\t----------------\n",
      "\t[*] Loading Model\n",
      "\t[*] Training Model\n",
      "\t[*] Get Predictions\n",
      "\t[*] Compute Score\n",
      "\t[*] Saving Predictions and Scores\n",
      "\n",
      "\tDataset : 4\n",
      "\t----------------\n",
      "\t[*] Loading Model\n",
      "\t[*] Training Model\n",
      "\t[*] Get Predictions\n",
      "\t[*] Compute Score\n",
      "\t[*] Saving Predictions and Scores\n",
      "\n",
      "\tDataset : 5\n",
      "\t----------------\n",
      "\t[*] Loading Model\n",
      "\t[*] Training Model\n",
      "\t[*] Get Predictions\n",
      "\t[*] Compute Score\n",
      "\t[*] Saving Predictions and Scores\n",
      "\n",
      "\tDataset : 6\n",
      "\t----------------\n",
      "\t[*] Loading Model\n",
      "\t[*] Training Model\n",
      "\t[*] Get Predictions\n",
      "\t[*] Compute Score\n",
      "\t[*] Saving Predictions and Scores\n"
     ]
    }
   ],
   "source": [
    "trainer = Trainer(\n",
    "    theta = best_theta_result[\"theta\"],\n",
    "    model_settings=model_settings,\n",
    "    result_dir=result_dir,\n",
    "    model_dir=model_dir,\n",
    "    train_sets=train_sets,\n",
    "    test_sets=test_sets,\n",
    "    settings=settings,\n",
    "    write=write\n",
    ")\n",
    "trainer.train()\n",
    "train_results = trainer.get_result()"
   ]
  },
  {
   "cell_type": "code",
   "execution_count": 18,
   "metadata": {},
   "outputs": [],
   "source": [
    "estimated_mu = train_results[0][\"mu_hat\"]"
   ]
  },
  {
   "cell_type": "code",
   "execution_count": 32,
   "metadata": {},
   "outputs": [
    {
     "data": {
      "image/png": "[encoded data removed]",
      "text/plain": [
       "<Figure size 640x480 with 1 Axes>"
      ]
     },
     "metadata": {},
     "output_type": "display_data"
    }
   ],
   "source": [
    "datasets = [f\"Dataset {index+1}\" for index in range(0,6)]\n",
    "plt.bar(datasets,estimated_mu)\n",
    "plt.axhline(y=1, color='r', linestyle='-.', label=\"ideal $\\mu$\")\n",
    "plt.xlabel(\"Dataset\")\n",
    "plt.ylabel(\"$\\hat{\\mu}$\")\n",
    "plt.title(\"Estimation of $\\hat{\\mu}$\")\n",
    "plt.show()"
   ]
  }
 ],
 "metadata": {
  "kernelspec": {
   "display_name": "meta-album",
   "language": "python",
   "name": "python3"
  },
  "language_info": {
   "codemirror_mode": {
    "name": "ipython",
    "version": 3
   },
   "file_extension": ".py",
   "mimetype": "text/x-python",
   "name": "python",
   "nbconvert_exporter": "python",
   "pygments_lexer": "ipython3",
   "version": "3.10.9"
  },
  "vscode": {
   "interpreter": {
    "hash": "c9e001b0608738f9411416229c98988c04b997dc526fb61c5e4e084e768e3249"
   }
  }
 },
 "nbformat": 4,
 "nbformat_minor": 4
}
