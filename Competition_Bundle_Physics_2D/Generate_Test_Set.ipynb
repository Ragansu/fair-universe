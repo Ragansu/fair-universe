{
 "cells": [
  {
   "cell_type": "code",
   "execution_count": 1,
   "metadata": {},
   "outputs": [],
   "source": [
    "from sys import path "
   ]
  },
  {
   "cell_type": "code",
   "execution_count": 2,
   "metadata": {},
   "outputs": [],
   "source": [
    "data_generator_dir = \"../Data_Generator\"\n",
    "program_dir =  \"./ingestion_program\""
   ]
  },
  {
   "cell_type": "code",
   "execution_count": 3,
   "metadata": {},
   "outputs": [],
   "source": [
    "path.append(data_generator_dir)\n",
    "path.append(program_dir)"
   ]
  },
  {
   "cell_type": "code",
   "execution_count": 4,
   "metadata": {},
   "outputs": [],
   "source": [
    "from params import Params\n",
    "from setting import Setting\n",
    "from data_generator_physics import DataGenerator"
   ]
  },
  {
   "cell_type": "code",
   "execution_count": 5,
   "metadata": {},
   "outputs": [],
   "source": [
    "# Generate train params\n",
    "data_gen_param = Params(\n",
    "    pi=0.1,\n",
    "    nu_1=100000,\n",
    "    mu_range=[0.9, 1.1],\n",
    "    systematics=[],\n",
    "    verbose=False\n",
    ")\n",
    "\n",
    "data_gen_setting = Setting(\n",
    "    params=data_gen_param\n",
    ").get_setting()\n",
    "\n",
    "# Train data\n",
    "data_gen = DataGenerator(settings_dict=data_gen_setting)\n",
    "data_gen.generate_data()\n",
    "data_gen.save_data(directory=\"input_data\", data_type=\"test\")"
   ]
  }
 ],
 "metadata": {
  "kernelspec": {
   "display_name": "meta-album",
   "language": "python",
   "name": "python3"
  },
  "language_info": {
   "codemirror_mode": {
    "name": "ipython",
    "version": 3
   },
   "file_extension": ".py",
   "mimetype": "text/x-python",
   "name": "python",
   "nbconvert_exporter": "python",
   "pygments_lexer": "ipython3",
   "version": "3.10.9"
  },
  "vscode": {
   "interpreter": {
    "hash": "c9e001b0608738f9411416229c98988c04b997dc526fb61c5e4e084e768e3249"
   }
  }
 },
 "nbformat": 4,
 "nbformat_minor": 4
}
